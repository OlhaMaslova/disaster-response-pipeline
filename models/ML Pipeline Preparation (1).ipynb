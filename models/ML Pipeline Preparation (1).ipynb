{
 "cells": [
  {
   "cell_type": "markdown",
   "metadata": {},
   "source": [
    "# ML Pipeline Preparation\n",
    "\n",
    "### 1. Import libraries and load data from database.\n",
    "- Import Python libraries\n",
    "- Load dataset from database with [`read_sql_table`](https://pandas.pydata.org/pandas-docs/stable/generated/pandas.read_sql_table.html)\n",
    "- Define feature and target variables X and Y"
   ]
  },
  {
   "cell_type": "code",
   "execution_count": 1,
   "metadata": {},
   "outputs": [],
   "source": [
    "# import libraries\n",
    "import pickle\n",
    "import re\n",
    "\n",
    "from sklearn.feature_extraction.text import CountVectorizer\n",
    "from sklearn.feature_extraction.text import TfidfTransformer\n",
    "from sklearn.datasets import make_multilabel_classification\n",
    "from sklearn.multioutput import MultiOutputClassifier\n",
    "from sklearn.model_selection import train_test_split\n",
    "from sklearn.metrics import classification_report, confusion_matrix\n",
    "\n",
    "# models\n",
    "from sklearn.ensemble import RandomForestClassifier, AdaBoostClassifier\n",
    "from sklearn import svm\n",
    "from sklearn.naive_bayes import MultinomialNB\n",
    "\n",
    "from sklearn.metrics import classification_report\n",
    "from sklearn.model_selection import GridSearchCV\n",
    "from sklearn.pipeline import Pipeline, FeatureUnion\n",
    "from sqlalchemy import create_engine\n",
    "\n",
    "from nltk.tokenize import word_tokenize\n",
    "from nltk.stem import WordNetLemmatizer\n",
    "from nltk.corpus import stopwords\n",
    "\n",
    "import pandas as pd\n",
    "import numpy as np\n",
    "import nltk"
   ]
  },
  {
   "cell_type": "code",
   "execution_count": 5,
   "metadata": {},
   "outputs": [],
   "source": [
    "# Uncomment these to download the packages\n",
    "\n",
    "# nltk.download('punkt')\n",
    "# nltk.download('wordnet')\n",
    "# nltk.download('stopwords')"
   ]
  },
  {
   "cell_type": "code",
   "execution_count": 4,
   "metadata": {},
   "outputs": [],
   "source": [
    "# load data from database\n",
    "engine = create_engine('sqlite:///../data/DisasterResponse.db')\n",
    "df = pd.read_sql_table('messages', engine)\n",
    "stop_words = stopwords.words()\n",
    "\n",
    "X = df.message\n",
    "y = df.iloc[:, 4:]"
   ]
  },
  {
   "cell_type": "markdown",
   "metadata": {},
   "source": [
    "### 2. Write a tokenization function to process your text data"
   ]
  },
  {
   "cell_type": "code",
   "execution_count": 6,
   "metadata": {},
   "outputs": [],
   "source": [
    "def tokenize(text):\n",
    "    #remove punctuation\n",
    "    text_clean = re.sub(r\"[^a-zA-Z0-9]\", \" \", text)\n",
    "    \n",
    "    # normalize and tokenize\n",
    "    tokens = word_tokenize(text_clean.lower())\n",
    "    \n",
    "    # init lemmatizer\n",
    "    lemmatizer = WordNetLemmatizer()\n",
    "    \n",
    "    # remove stop words and lematize\n",
    "    clean_tokens = []\n",
    "    for token in tokens:\n",
    "        clean_tokens = [lemmatizer.lemmatize(word.strip()) for word in tokens if word not in stop_words]\n",
    "\n",
    "    return clean_tokens\n",
    "\n",
    "tokens = tokenize(df.message[0])"
   ]
  },
  {
   "cell_type": "markdown",
   "metadata": {},
   "source": [
    "### 3. Build a machine learning pipeline\n",
    "This machine pipeline should take in the `message` column as input and output classification results on the other 36 categories in the dataset. You may find the [MultiOutputClassifier](http://scikit-learn.org/stable/modules/generated/sklearn.multioutput.MultiOutputClassifier.html) helpful for predicting multiple target variables."
   ]
  },
  {
   "cell_type": "code",
   "execution_count": 7,
   "metadata": {},
   "outputs": [],
   "source": [
    "pipeline = Pipeline([\n",
    "    ('features', FeatureUnion([\n",
    "\n",
    "        ('text_pipeline', Pipeline([\n",
    "            ('count_vectorizer', CountVectorizer(tokenizer=tokenize)),\n",
    "            ('tfidf_transformer', TfidfTransformer())\n",
    "        ]))\n",
    "\n",
    "    ])),\n",
    "\n",
    "    ('classifier', MultiOutputClassifier(AdaBoostClassifier()))\n",
    "])"
   ]
  },
  {
   "cell_type": "markdown",
   "metadata": {},
   "source": [
    "### 4. Train pipeline\n",
    "- Split data into train and test sets\n",
    "- Train pipeline"
   ]
  },
  {
   "cell_type": "code",
   "execution_count": 8,
   "metadata": {},
   "outputs": [],
   "source": [
    "# train test split\n",
    "X_train, X_test, y_train, y_test = train_test_split(X, y, test_size=0.33)\n",
    "# fit the pipeline\n",
    "pipeline_fitted = pipeline.fit(X_train, y_train)"
   ]
  },
  {
   "cell_type": "markdown",
   "metadata": {},
   "source": [
    "### 5. Test your model\n",
    "Report the f1 score, precision and recall for each output category of the dataset. You can do this by iterating through the columns and calling sklearn's `classification_report` on each."
   ]
  },
  {
   "cell_type": "code",
   "execution_count": 9,
   "metadata": {},
   "outputs": [
    {
     "name": "stdout",
     "output_type": "stream",
     "text": [
      "Predicting ...\n",
      "                        precision    recall  f1-score   support\n",
      "\n",
      "               related       0.79      0.98      0.87      6532\n",
      "               request       0.73      0.51      0.60      1510\n",
      "                 offer       0.00      0.00      0.00        48\n",
      "           aid_related       0.75      0.61      0.67      3578\n",
      "          medical_help       0.60      0.26      0.37       682\n",
      "      medical_products       0.65      0.30      0.41       429\n",
      "     search_and_rescue       0.54      0.16      0.25       233\n",
      "              security       0.28      0.05      0.08       142\n",
      "              military       0.60      0.29      0.39       283\n",
      "                 water       0.73      0.65      0.69       514\n",
      "                  food       0.81      0.67      0.73       943\n",
      "               shelter       0.75      0.50      0.60       752\n",
      "              clothing       0.66      0.30      0.41       118\n",
      "                 money       0.52      0.29      0.37       206\n",
      "        missing_people       0.41      0.13      0.19        95\n",
      "              refugees       0.54      0.26      0.35       280\n",
      "                 death       0.74      0.42      0.54       396\n",
      "             other_aid       0.52      0.15      0.23      1156\n",
      "infrastructure_related       0.39      0.10      0.15       563\n",
      "             transport       0.64      0.23      0.34       405\n",
      "             buildings       0.64      0.36      0.46       434\n",
      "           electricity       0.60      0.28      0.38       176\n",
      "                 tools       0.08      0.02      0.03        48\n",
      "             hospitals       0.23      0.07      0.11        95\n",
      "                 shops       0.00      0.00      0.00        44\n",
      "           aid_centers       0.32      0.08      0.13       100\n",
      "  other_infrastructure       0.30      0.09      0.14       372\n",
      "       weather_related       0.86      0.68      0.76      2386\n",
      "                floods       0.86      0.54      0.66       690\n",
      "                 storm       0.76      0.55      0.64       807\n",
      "                  fire       0.44      0.24      0.31       100\n",
      "            earthquake       0.90      0.78      0.83       812\n",
      "                  cold       0.65      0.37      0.47       177\n",
      "         other_weather       0.46      0.15      0.23       452\n",
      "         direct_report       0.67      0.40      0.50      1691\n",
      "           no_category       0.69      0.17      0.27      2058\n",
      "\n",
      "             micro avg       0.75      0.56      0.64     29307\n",
      "             macro avg       0.56      0.32      0.39     29307\n",
      "          weighted avg       0.71      0.56      0.60     29307\n",
      "           samples avg       0.70      0.56      0.57     29307\n",
      "\n"
     ]
    }
   ],
   "source": [
    "# make prediction\n",
    "print('Predicting ...')\n",
    "y_prediction_train = pipeline_fitted.predict(X_train)\n",
    "y_prediction_test = pipeline_fitted.predict(X_test)\n",
    "\n",
    "# Print classification report on test data\n",
    "print(classification_report(y_test.values, y_prediction_test, target_names=y.columns.values))"
   ]
  },
  {
   "cell_type": "markdown",
   "metadata": {},
   "source": [
    "### 6. Improve your model\n",
    "Use grid search to find better parameters. "
   ]
  },
  {
   "cell_type": "code",
   "execution_count": 10,
   "metadata": {},
   "outputs": [
    {
     "data": {
      "text/plain": [
       "dict_keys(['memory', 'steps', 'verbose', 'features', 'classifier', 'features__n_jobs', 'features__transformer_list', 'features__transformer_weights', 'features__verbose', 'features__text_pipeline', 'features__text_pipeline__memory', 'features__text_pipeline__steps', 'features__text_pipeline__verbose', 'features__text_pipeline__count_vectorizer', 'features__text_pipeline__tfidf_transformer', 'features__text_pipeline__count_vectorizer__analyzer', 'features__text_pipeline__count_vectorizer__binary', 'features__text_pipeline__count_vectorizer__decode_error', 'features__text_pipeline__count_vectorizer__dtype', 'features__text_pipeline__count_vectorizer__encoding', 'features__text_pipeline__count_vectorizer__input', 'features__text_pipeline__count_vectorizer__lowercase', 'features__text_pipeline__count_vectorizer__max_df', 'features__text_pipeline__count_vectorizer__max_features', 'features__text_pipeline__count_vectorizer__min_df', 'features__text_pipeline__count_vectorizer__ngram_range', 'features__text_pipeline__count_vectorizer__preprocessor', 'features__text_pipeline__count_vectorizer__stop_words', 'features__text_pipeline__count_vectorizer__strip_accents', 'features__text_pipeline__count_vectorizer__token_pattern', 'features__text_pipeline__count_vectorizer__tokenizer', 'features__text_pipeline__count_vectorizer__vocabulary', 'features__text_pipeline__tfidf_transformer__norm', 'features__text_pipeline__tfidf_transformer__smooth_idf', 'features__text_pipeline__tfidf_transformer__sublinear_tf', 'features__text_pipeline__tfidf_transformer__use_idf', 'classifier__estimator__algorithm', 'classifier__estimator__base_estimator', 'classifier__estimator__learning_rate', 'classifier__estimator__n_estimators', 'classifier__estimator__random_state', 'classifier__estimator', 'classifier__n_jobs'])"
      ]
     },
     "execution_count": 10,
     "metadata": {},
     "output_type": "execute_result"
    }
   ],
   "source": [
    "pipeline_fitted.get_params().keys()"
   ]
  },
  {
   "cell_type": "code",
   "execution_count": 11,
   "metadata": {},
   "outputs": [
    {
     "name": "stdout",
     "output_type": "stream",
     "text": [
      "Fitting...\n",
      "Predicting ...\n"
     ]
    }
   ],
   "source": [
    "parameters = {'classifier__estimator__learning_rate': [0.01, 0.05],\n",
    "              'classifier__estimator__n_estimators': [20, 50]}\n",
    "\n",
    "cv = GridSearchCV(\n",
    "    pipeline,\n",
    "    param_grid=parameters,\n",
    "    scoring='f1_micro',\n",
    "    n_jobs=-1\n",
    ")\n",
    "\n",
    "print('Fitting...')\n",
    "cv.fit(X_train, y_train)\n",
    "\n",
    "# Get the predictions\n",
    "print('Predicting ...')\n",
    "y_prediction_test = cv.predict(X_test)"
   ]
  },
  {
   "cell_type": "markdown",
   "metadata": {},
   "source": [
    "### 7. Test your model\n",
    "Show the accuracy, precision, and recall of the tuned model.  \n",
    "\n",
    "Since this project focuses on code quality, process, and  pipelines, there is no minimum performance metric needed to pass. However, make sure to fine tune your models for accuracy, precision and recall to make your project stand out - especially for your portfolio!"
   ]
  },
  {
   "cell_type": "code",
   "execution_count": 12,
   "metadata": {},
   "outputs": [
    {
     "name": "stdout",
     "output_type": "stream",
     "text": [
      "                        precision    recall  f1-score   support\n",
      "\n",
      "               related       0.76      1.00      0.86      6532\n",
      "               request       0.84      0.18      0.29      1510\n",
      "                 offer       0.00      0.00      0.00        48\n",
      "           aid_related       0.78      0.27      0.40      3578\n",
      "          medical_help       0.65      0.02      0.04       682\n",
      "      medical_products       0.83      0.01      0.02       429\n",
      "     search_and_rescue       0.75      0.01      0.03       233\n",
      "              security       0.00      0.00      0.00       142\n",
      "              military       0.50      0.00      0.01       283\n",
      "                 water       0.66      0.70      0.68       514\n",
      "                  food       0.76      0.69      0.72       943\n",
      "               shelter       0.83      0.30      0.44       752\n",
      "              clothing       0.83      0.08      0.15       118\n",
      "                 money       0.00      0.00      0.00       206\n",
      "        missing_people       0.33      0.01      0.02        95\n",
      "              refugees       0.75      0.02      0.04       280\n",
      "                 death       0.90      0.02      0.04       396\n",
      "             other_aid       0.71      0.00      0.01      1156\n",
      "infrastructure_related       0.00      0.00      0.00       563\n",
      "             transport       0.81      0.05      0.10       405\n",
      "             buildings       0.78      0.08      0.15       434\n",
      "           electricity       0.75      0.03      0.07       176\n",
      "                 tools       0.00      0.00      0.00        48\n",
      "             hospitals       0.00      0.00      0.00        95\n",
      "                 shops       0.00      0.00      0.00        44\n",
      "           aid_centers       0.00      0.00      0.00       100\n",
      "  other_infrastructure       0.00      0.00      0.00       372\n",
      "       weather_related       0.93      0.34      0.49      2386\n",
      "                floods       0.91      0.35      0.50       690\n",
      "                 storm       0.82      0.07      0.13       807\n",
      "                  fire       0.33      0.01      0.02       100\n",
      "            earthquake       0.91      0.68      0.78       812\n",
      "                  cold       0.50      0.03      0.05       177\n",
      "         other_weather       0.50      0.00      0.01       452\n",
      "         direct_report       0.80      0.11      0.19      1691\n",
      "           no_category       0.00      0.00      0.00      2058\n",
      "\n",
      "             micro avg       0.78      0.37      0.51     29307\n",
      "             macro avg       0.53      0.14      0.17     29307\n",
      "          weighted avg       0.68      0.37      0.40     29307\n",
      "           samples avg       0.73      0.42      0.48     29307\n",
      "\n"
     ]
    },
    {
     "name": "stderr",
     "output_type": "stream",
     "text": [
      "/Users/my_love/opt/anaconda3/lib/python3.8/site-packages/sklearn/metrics/_classification.py:1245: UndefinedMetricWarning: Precision and F-score are ill-defined and being set to 0.0 in labels with no predicted samples. Use `zero_division` parameter to control this behavior.\n",
      "  _warn_prf(average, modifier, msg_start, len(result))\n"
     ]
    }
   ],
   "source": [
    "# Print classification report on test data\n",
    "print(classification_report(y_test.values, y_prediction_test, target_names=y.columns.values))"
   ]
  },
  {
   "cell_type": "markdown",
   "metadata": {},
   "source": [
    "### 8. Try improving your model further. Here are a few ideas:\n",
    "* try other machine learning algorithms\n",
    "* add other features besides the TF-IDF"
   ]
  },
  {
   "cell_type": "code",
   "execution_count": null,
   "metadata": {},
   "outputs": [],
   "source": []
  },
  {
   "cell_type": "markdown",
   "metadata": {},
   "source": [
    "### 9. Export your model as a pickle file"
   ]
  },
  {
   "cell_type": "code",
   "execution_count": 14,
   "metadata": {},
   "outputs": [],
   "source": [
    "filename = 'classifier.pkl'\n",
    "pickle.dump(cv, open(filename, 'wb'))"
   ]
  },
  {
   "cell_type": "code",
   "execution_count": null,
   "metadata": {},
   "outputs": [],
   "source": []
  }
 ],
 "metadata": {
  "kernelspec": {
   "display_name": "Python 3",
   "language": "python",
   "name": "python3"
  },
  "language_info": {
   "codemirror_mode": {
    "name": "ipython",
    "version": 3
   },
   "file_extension": ".py",
   "mimetype": "text/x-python",
   "name": "python",
   "nbconvert_exporter": "python",
   "pygments_lexer": "ipython3",
   "version": "3.8.5"
  }
 },
 "nbformat": 4,
 "nbformat_minor": 4
}
